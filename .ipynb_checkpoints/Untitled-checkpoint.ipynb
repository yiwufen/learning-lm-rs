{
 "cells": [
  {
   "cell_type": "code",
   "execution_count": null,
   "id": "dcd28471-764a-4383-a415-f53e8fee1ca2",
   "metadata": {},
   "outputs": [],
   "source": [
    "import torch\n",
    "from s import LlamaModel, LlamaTokenizer"
   ]
  },
  {
   "cell_type": "code",
   "execution_count": null,
   "id": "1a16f093-f372-4930-a4d5-2c3ee98f0ea8",
   "metadata": {},
   "outputs": [],
   "source": []
  }
 ],
 "metadata": {
  "kernelspec": {
   "display_name": "Python 3 (ipykernel)",
   "language": "python",
   "name": "python3"
  },
  "language_info": {
   "codemirror_mode": {
    "name": "ipython",
    "version": 3
   },
   "file_extension": ".py",
   "mimetype": "text/x-python",
   "name": "python",
   "nbconvert_exporter": "python",
   "pygments_lexer": "ipython3",
   "version": "3.11.7"
  }
 },
 "nbformat": 4,
 "nbformat_minor": 5
}
